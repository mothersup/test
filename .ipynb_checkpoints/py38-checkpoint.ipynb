{
 "cells": [
  {
   "cell_type": "code",
   "execution_count": 1,
   "id": "60f0a570",
   "metadata": {
    "execution": {
     "iopub.execute_input": "2022-06-06T15:22:06.557918Z",
     "iopub.status.busy": "2022-06-06T15:22:06.557448Z",
     "iopub.status.idle": "2022-06-06T15:22:06.702071Z",
     "shell.execute_reply": "2022-06-06T15:22:06.701139Z",
     "shell.execute_reply.started": "2022-06-06T15:22:06.557873Z"
    },
    "tags": []
   },
   "outputs": [],
   "source": [
    "import rasterio\n",
    "from osgeo import gdal\n",
    "import numpy as np\n",
    "from rasterio.fill import fillnodata"
   ]
  },
  {
   "cell_type": "code",
   "execution_count": 3,
   "id": "874f18af",
   "metadata": {
    "execution": {
     "iopub.execute_input": "2022-06-06T14:14:25.549414Z",
     "iopub.status.busy": "2022-06-06T14:14:25.548913Z",
     "iopub.status.idle": "2022-06-06T14:14:25.632798Z",
     "shell.execute_reply": "2022-06-06T14:14:25.632299Z",
     "shell.execute_reply.started": "2022-06-06T14:14:25.549396Z"
    }
   },
   "outputs": [],
   "source": [
    "a = xr.open_dataset('NO2_2020010100.nc')"
   ]
  },
  {
   "cell_type": "code",
   "execution_count": 15,
   "id": "8fc0d512",
   "metadata": {
    "execution": {
     "iopub.execute_input": "2022-06-06T14:15:56.584740Z",
     "iopub.status.busy": "2022-06-06T14:15:56.583987Z",
     "iopub.status.idle": "2022-06-06T14:15:56.887787Z",
     "shell.execute_reply": "2022-06-06T14:15:56.887097Z",
     "shell.execute_reply.started": "2022-06-06T14:15:56.584714Z"
    }
   },
   "outputs": [],
   "source": [
    "a['band_data'].rio.to_raster('a.tif')"
   ]
  },
  {
   "cell_type": "code",
   "execution_count": 30,
   "id": "423a8aaf",
   "metadata": {
    "execution": {
     "iopub.execute_input": "2022-06-06T14:25:47.325803Z",
     "iopub.status.busy": "2022-06-06T14:25:47.325473Z",
     "iopub.status.idle": "2022-06-06T14:25:47.329985Z",
     "shell.execute_reply": "2022-06-06T14:25:47.329383Z",
     "shell.execute_reply.started": "2022-06-06T14:25:47.325786Z"
    }
   },
   "outputs": [],
   "source": [
    "ds = gdal.Open('a_cp.tif', 1)"
   ]
  },
  {
   "cell_type": "code",
   "execution_count": 31,
   "id": "106e927c",
   "metadata": {
    "execution": {
     "iopub.execute_input": "2022-06-06T14:25:48.030651Z",
     "iopub.status.busy": "2022-06-06T14:25:48.030221Z",
     "iopub.status.idle": "2022-06-06T14:25:48.034016Z",
     "shell.execute_reply": "2022-06-06T14:25:48.033529Z",
     "shell.execute_reply.started": "2022-06-06T14:25:48.030624Z"
    }
   },
   "outputs": [],
   "source": [
    "rb = ds.GetRasterBand(1)"
   ]
  },
  {
   "cell_type": "code",
   "execution_count": 32,
   "id": "479a75dd",
   "metadata": {
    "execution": {
     "iopub.execute_input": "2022-06-06T14:25:49.470935Z",
     "iopub.status.busy": "2022-06-06T14:25:49.470406Z",
     "iopub.status.idle": "2022-06-06T14:25:49.475821Z",
     "shell.execute_reply": "2022-06-06T14:25:49.475300Z",
     "shell.execute_reply.started": "2022-06-06T14:25:49.470906Z"
    }
   },
   "outputs": [
    {
     "data": {
      "text/plain": [
       "0"
      ]
     },
     "execution_count": 32,
     "metadata": {},
     "output_type": "execute_result"
    }
   ],
   "source": [
    "rb.SetNoDataValue(np.nan)"
   ]
  },
  {
   "cell_type": "code",
   "execution_count": 34,
   "id": "50379309",
   "metadata": {
    "execution": {
     "iopub.execute_input": "2022-06-06T14:26:03.690263Z",
     "iopub.status.busy": "2022-06-06T14:26:03.689927Z",
     "iopub.status.idle": "2022-06-06T14:26:05.624495Z",
     "shell.execute_reply": "2022-06-06T14:26:05.623978Z",
     "shell.execute_reply.started": "2022-06-06T14:26:03.690247Z"
    }
   },
   "outputs": [
    {
     "data": {
      "text/plain": [
       "0"
      ]
     },
     "execution_count": 34,
     "metadata": {},
     "output_type": "execute_result"
    }
   ],
   "source": [
    "gdal.FillNodata(targetBand=rb, maskBand=None, maxSearchDist=100,\n",
    "                smoothingIterations=10)"
   ]
  },
  {
   "cell_type": "code",
   "execution_count": 35,
   "id": "476e7d27",
   "metadata": {
    "execution": {
     "iopub.execute_input": "2022-06-06T14:26:06.026004Z",
     "iopub.status.busy": "2022-06-06T14:26:06.025395Z",
     "iopub.status.idle": "2022-06-06T14:26:06.390954Z",
     "shell.execute_reply": "2022-06-06T14:26:06.390374Z",
     "shell.execute_reply.started": "2022-06-06T14:26:06.025978Z"
    }
   },
   "outputs": [],
   "source": [
    "ds = None\n",
    "rb = None"
   ]
  },
  {
   "cell_type": "code",
   "execution_count": 29,
   "id": "19fb24d5",
   "metadata": {
    "execution": {
     "iopub.execute_input": "2022-06-06T14:24:58.298550Z",
     "iopub.status.busy": "2022-06-06T14:24:58.298167Z",
     "iopub.status.idle": "2022-06-06T14:24:59.622120Z",
     "shell.execute_reply": "2022-06-06T14:24:59.621586Z",
     "shell.execute_reply.started": "2022-06-06T14:24:58.298532Z"
    }
   },
   "outputs": [],
   "source": [
    "with rasterio.open('a_cp2.tif') as src:\n",
    "    profile = src.profile\n",
    "    arr = src.read(1)\n",
    "    arr_filled = fillnodata(arr, mask=src.read_masks(1), smoothing_iterations=10)\n",
    "    \n",
    "newtif_file = r\"a_rio_filled.tif\"   \n",
    "with rasterio.open(newtif_file, 'w', **profile) as dest:\n",
    "    dest.write_band(1, arr_filled)"
   ]
  },
  {
   "cell_type": "code",
   "execution_count": null,
   "id": "28fe10bb",
   "metadata": {},
   "outputs": [],
   "source": []
  },
  {
   "cell_type": "code",
   "execution_count": 2,
   "id": "cbec8edc",
   "metadata": {
    "execution": {
     "iopub.execute_input": "2022-06-06T15:22:09.256931Z",
     "iopub.status.busy": "2022-06-06T15:22:09.256519Z",
     "iopub.status.idle": "2022-06-06T15:22:09.259363Z",
     "shell.execute_reply": "2022-06-06T15:22:09.258849Z",
     "shell.execute_reply.started": "2022-06-06T15:22:09.256916Z"
    },
    "tags": []
   },
   "outputs": [],
   "source": [
    "ar = np.full((5, 5), np.nan)"
   ]
  },
  {
   "cell_type": "code",
   "execution_count": 3,
   "id": "5726bcc0",
   "metadata": {
    "execution": {
     "iopub.execute_input": "2022-06-06T15:22:09.747395Z",
     "iopub.status.busy": "2022-06-06T15:22:09.746968Z",
     "iopub.status.idle": "2022-06-06T15:22:09.749931Z",
     "shell.execute_reply": "2022-06-06T15:22:09.749463Z",
     "shell.execute_reply.started": "2022-06-06T15:22:09.747377Z"
    },
    "tags": []
   },
   "outputs": [],
   "source": [
    "ar[0, 0] = 5\n",
    "# ar[0, 4] = 7 \n",
    "# ar[2, 2] = 100\n",
    "ar[4, 4] = 10"
   ]
  },
  {
   "cell_type": "code",
   "execution_count": 5,
   "id": "d217cee2",
   "metadata": {
    "execution": {
     "iopub.execute_input": "2022-06-06T15:22:15.923673Z",
     "iopub.status.busy": "2022-06-06T15:22:15.923191Z",
     "iopub.status.idle": "2022-06-06T15:22:15.954014Z",
     "shell.execute_reply": "2022-06-06T15:22:15.953440Z",
     "shell.execute_reply.started": "2022-06-06T15:22:15.923658Z"
    },
    "tags": []
   },
   "outputs": [
    {
     "data": {
      "text/plain": [
       "0"
      ]
     },
     "execution_count": 5,
     "metadata": {},
     "output_type": "execute_result"
    }
   ],
   "source": [
    "driver = gdal.GetDriverByName('MEM')\n",
    "src_ds = driver.Create('', 5, 5, 1, eType=gdal.GDT_Float64)\n",
    "src_ds.GetRasterBand(1).WriteArray(ar)\n",
    "src_ds.GetRasterBand(1).SetNoDataValue(np.nan)\n",
    "gdal_filled = src_ds.GetRasterBand(1)\n",
    "gdal.FillNodata(targetBand=gdal_filled, maskBand=None, maxSearchDist=100,\n",
    "                smoothingIterations=10)"
   ]
  },
  {
   "cell_type": "code",
   "execution_count": null,
   "id": "3ebbb867-8e34-470b-a324-c24c27861bb5",
   "metadata": {},
   "outputs": [],
   "source": [
    "print(band2.ReadAsArray())"
   ]
  },
  {
   "cell_type": "code",
   "execution_count": 6,
   "id": "df41c012",
   "metadata": {
    "execution": {
     "iopub.execute_input": "2022-06-06T15:22:18.948039Z",
     "iopub.status.busy": "2022-06-06T15:22:18.947711Z",
     "iopub.status.idle": "2022-06-06T15:22:18.953165Z",
     "shell.execute_reply": "2022-06-06T15:22:18.952693Z",
     "shell.execute_reply.started": "2022-06-06T15:22:18.948023Z"
    },
    "tags": []
   },
   "outputs": [],
   "source": [
    "rio_filled = fillnodata(ar, ~np.isnan(ar), smoothing_iterations=10)"
   ]
  },
  {
   "cell_type": "code",
   "execution_count": 9,
   "id": "ad1f1e4e-453e-4ca6-88c4-7795d08f4de6",
   "metadata": {
    "execution": {
     "iopub.execute_input": "2022-06-06T15:22:37.027938Z",
     "iopub.status.busy": "2022-06-06T15:22:37.027637Z",
     "iopub.status.idle": "2022-06-06T15:22:37.030968Z",
     "shell.execute_reply": "2022-06-06T15:22:37.030471Z",
     "shell.execute_reply.started": "2022-06-06T15:22:37.027923Z"
    },
    "tags": []
   },
   "outputs": [
    {
     "name": "stdout",
     "output_type": "stream",
     "text": [
      "[[ 5.          5.83333349  6.54508495  7.10582304  8.33333302]\n",
      " [ 6.32579899  6.56685448  7.03844786  7.55719614  7.81131172]\n",
      " [ 7.03526783  7.20659351  7.56178665  7.92615461  8.11460972]\n",
      " [ 7.45309019  7.64245415  8.04526424  8.50459099  8.74629498]\n",
      " [ 7.5         7.89417696  8.45491505  9.16666698 10.        ]]\n"
     ]
    }
   ],
   "source": [
    "print(gdal_filled.ReadAsArray())"
   ]
  },
  {
   "cell_type": "code",
   "execution_count": 10,
   "id": "d94b37bd-10e2-4e1f-807d-d9127e443e0f",
   "metadata": {
    "execution": {
     "iopub.execute_input": "2022-06-06T15:22:45.323715Z",
     "iopub.status.busy": "2022-06-06T15:22:45.323308Z",
     "iopub.status.idle": "2022-06-06T15:22:45.326595Z",
     "shell.execute_reply": "2022-06-06T15:22:45.326145Z",
     "shell.execute_reply.started": "2022-06-06T15:22:45.323691Z"
    },
    "tags": []
   },
   "outputs": [
    {
     "name": "stdout",
     "output_type": "stream",
     "text": [
      "[[ 5.          5.83333349  6.54508495  7.10582304  8.33333302]\n",
      " [ 5.          5.                 nan         nan         nan]\n",
      " [        nan         nan         nan         nan         nan]\n",
      " [        nan         nan         nan 10.         10.        ]\n",
      " [ 7.5         7.89417696  8.45491505  9.16666698 10.        ]]\n"
     ]
    }
   ],
   "source": [
    "print(rio_filled)"
   ]
  },
  {
   "cell_type": "code",
   "execution_count": 12,
   "id": "ef9ba4b8",
   "metadata": {
    "execution": {
     "iopub.execute_input": "2022-06-06T15:14:48.533244Z",
     "iopub.status.busy": "2022-06-06T15:14:48.532595Z",
     "iopub.status.idle": "2022-06-06T15:14:48.536242Z",
     "shell.execute_reply": "2022-06-06T15:14:48.535753Z",
     "shell.execute_reply.started": "2022-06-06T15:14:48.533228Z"
    },
    "tags": []
   },
   "outputs": [
    {
     "data": {
      "text/plain": [
       "'1.3a3'"
      ]
     },
     "execution_count": 12,
     "metadata": {},
     "output_type": "execute_result"
    }
   ],
   "source": [
    "rasterio.__version__"
   ]
  },
  {
   "cell_type": "code",
   "execution_count": 13,
   "id": "826675cf",
   "metadata": {
    "execution": {
     "iopub.execute_input": "2022-06-06T15:15:07.951507Z",
     "iopub.status.busy": "2022-06-06T15:15:07.951169Z",
     "iopub.status.idle": "2022-06-06T15:15:07.954559Z",
     "shell.execute_reply": "2022-06-06T15:15:07.954134Z",
     "shell.execute_reply.started": "2022-06-06T15:15:07.951490Z"
    }
   },
   "outputs": [
    {
     "data": {
      "text/plain": [
       "'3.4.0'"
      ]
     },
     "execution_count": 13,
     "metadata": {},
     "output_type": "execute_result"
    }
   ],
   "source": [
    "rasterio.__gdal_version__"
   ]
  },
  {
   "cell_type": "code",
   "execution_count": 15,
   "id": "79a4dcf7-efc5-46c6-87b3-cd9e549fd7d5",
   "metadata": {
    "execution": {
     "iopub.execute_input": "2022-06-06T15:15:27.899227Z",
     "iopub.status.busy": "2022-06-06T15:15:27.898910Z",
     "iopub.status.idle": "2022-06-06T15:15:27.902039Z",
     "shell.execute_reply": "2022-06-06T15:15:27.901489Z",
     "shell.execute_reply.started": "2022-06-06T15:15:27.899212Z"
    },
    "tags": []
   },
   "outputs": [
    {
     "name": "stdout",
     "output_type": "stream",
     "text": [
      "Linux-5.10.102.1-microsoft-standard-WSL2-x86_64-with-glibc2.35\n"
     ]
    }
   ],
   "source": [
    "import platform\n",
    "print(platform.platform())"
   ]
  },
  {
   "cell_type": "code",
   "execution_count": 12,
   "id": "dce6da54-1502-46b3-b754-1a69231d5fbc",
   "metadata": {
    "execution": {
     "iopub.execute_input": "2022-06-06T15:28:03.489681Z",
     "iopub.status.busy": "2022-06-06T15:28:03.489375Z",
     "iopub.status.idle": "2022-06-06T15:28:03.492480Z",
     "shell.execute_reply": "2022-06-06T15:28:03.491996Z",
     "shell.execute_reply.started": "2022-06-06T15:28:03.489665Z"
    },
    "tags": []
   },
   "outputs": [
    {
     "name": "stdout",
     "output_type": "stream",
     "text": [
      "3.10.4 | packaged by conda-forge | (main, Mar 24 2022, 17:38:57) [GCC 10.3.0]\n"
     ]
    }
   ],
   "source": [
    "import sys; print(sys.version.replace('\\n', ' '))"
   ]
  },
  {
   "cell_type": "code",
   "execution_count": null,
   "id": "6ea45955-cc5a-4019-9a66-e218216d1d10",
   "metadata": {},
   "outputs": [],
   "source": []
  }
 ],
 "metadata": {
  "kernelspec": {
   "display_name": "Python 3 (ipykernel)",
   "language": "python",
   "name": "python3"
  },
  "language_info": {
   "codemirror_mode": {
    "name": "ipython",
    "version": 3
   },
   "file_extension": ".py",
   "mimetype": "text/x-python",
   "name": "python",
   "nbconvert_exporter": "python",
   "pygments_lexer": "ipython3",
   "version": "3.10.4"
  }
 },
 "nbformat": 4,
 "nbformat_minor": 5
}
